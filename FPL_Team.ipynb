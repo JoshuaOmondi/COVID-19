{
  "nbformat": 4,
  "nbformat_minor": 0,
  "metadata": {
    "colab": {
      "name": "FPL Team.ipynb",
      "provenance": [],
      "authorship_tag": "ABX9TyNvAPQ3qQgxr6c5875P4/Uv",
      "include_colab_link": true
    },
    "kernelspec": {
      "name": "python3",
      "display_name": "Python 3"
    },
    "language_info": {
      "name": "python"
    }
  },
  "cells": [
    {
      "cell_type": "markdown",
      "metadata": {
        "id": "view-in-github",
        "colab_type": "text"
      },
      "source": [
        "<a href=\"https://colab.research.google.com/github/JoshuaOmondi/Data-Projects/blob/master/FPL_Team.ipynb\" target=\"_parent\"><img src=\"https://colab.research.google.com/assets/colab-badge.svg\" alt=\"Open In Colab\"/></a>"
      ]
    },
    {
      "cell_type": "markdown",
      "metadata": {
        "id": "lck7j7PJIURV"
      },
      "source": [
        "**Using Linear Programming to Choose the Best FPL Team**\n",
        "\n",
        "These are the steps to be used.\n",
        "* Describing the problem.( Building a team that gives maximum pts given the budget)\n",
        "* Formulate the mathematical program\n",
        "* Solving the mathematical program\n",
        "* Evaluating the result\n",
        "* Finalizing the result\n",
        "Data required: player price, team, points and position.\n",
        "Constraints: budget and number of players."
      ]
    },
    {
      "cell_type": "markdown",
      "metadata": {
        "id": "r27ipiEYIS8o"
      },
      "source": [
        ""
      ]
    },
    {
      "cell_type": "code",
      "metadata": {
        "colab": {
          "base_uri": "https://localhost:8080/"
        },
        "id": "plwgZc-gApKl",
        "outputId": "33a16388-ec17-4235-ef10-441d2dd3b09b"
      },
      "source": [
        "pip install pulp"
      ],
      "execution_count": null,
      "outputs": [
        {
          "output_type": "stream",
          "name": "stdout",
          "text": [
            "Collecting pulp\n",
            "  Downloading PuLP-2.5.0-py3-none-any.whl (41.2 MB)\n",
            "\u001b[K     |████████████████████████████████| 41.2 MB 77 kB/s \n",
            "\u001b[?25hInstalling collected packages: pulp\n",
            "Successfully installed pulp-2.5.0\n"
          ]
        }
      ]
    },
    {
      "cell_type": "code",
      "metadata": {
        "id": "yw128qdS_9ru"
      },
      "source": [
        "#importing libraries\n",
        "import pandas as pd\n",
        "from pulp import *"
      ],
      "execution_count": null,
      "outputs": []
    },
    {
      "cell_type": "code",
      "metadata": {
        "colab": {
          "base_uri": "https://localhost:8080/"
        },
        "id": "3v4sQXP_HfRd",
        "outputId": "df05085d-7b90-4ed2-ba78-13093daf7919"
      },
      "source": [
        "! git clone https://github.com/vaastav/Fantasy-Premier-League.git"
      ],
      "execution_count": 5,
      "outputs": [
        {
          "output_type": "stream",
          "name": "stdout",
          "text": [
            "Cloning into 'Fantasy-Premier-League'...\n",
            "remote: Enumerating objects: 154063, done.\u001b[K\n",
            "remote: Counting objects: 100% (32995/32995), done.\u001b[K\n",
            "remote: Compressing objects: 100% (14456/14456), done.\u001b[K\n",
            "remote: Total 154063 (delta 15615), reused 32168 (delta 14964), pack-reused 121068\u001b[K\n",
            "Receiving objects: 100% (154063/154063), 55.83 MiB | 18.40 MiB/s, done.\n",
            "Resolving deltas: 100% (72651/72651), done.\n",
            "Checking out files: 100% (8296/8296), done.\n"
          ]
        }
      ]
    },
    {
      "cell_type": "code",
      "metadata": {
        "colab": {
          "base_uri": "https://localhost:8080/",
          "height": 305
        },
        "id": "eSIglJJ0AZiK",
        "outputId": "610f1c6e-52c5-48dd-baeb-dd699a72009c"
      },
      "source": [
        "#Loading data\n",
        "PATH = 'Fantasy-Premier-League/data/'\n",
        "\n",
        "current_df = pd.read_csv(PATH + '2021-22/gws/merged_gw.csv')\n",
        "current_df.tail()"
      ],
      "execution_count": 6,
      "outputs": [
        {
          "output_type": "execute_result",
          "data": {
            "text/html": [
              "<div>\n",
              "<style scoped>\n",
              "    .dataframe tbody tr th:only-of-type {\n",
              "        vertical-align: middle;\n",
              "    }\n",
              "\n",
              "    .dataframe tbody tr th {\n",
              "        vertical-align: top;\n",
              "    }\n",
              "\n",
              "    .dataframe thead th {\n",
              "        text-align: right;\n",
              "    }\n",
              "</style>\n",
              "<table border=\"1\" class=\"dataframe\">\n",
              "  <thead>\n",
              "    <tr style=\"text-align: right;\">\n",
              "      <th></th>\n",
              "      <th>name</th>\n",
              "      <th>position</th>\n",
              "      <th>team</th>\n",
              "      <th>xP</th>\n",
              "      <th>assists</th>\n",
              "      <th>bonus</th>\n",
              "      <th>bps</th>\n",
              "      <th>clean_sheets</th>\n",
              "      <th>creativity</th>\n",
              "      <th>element</th>\n",
              "      <th>fixture</th>\n",
              "      <th>goals_conceded</th>\n",
              "      <th>goals_scored</th>\n",
              "      <th>ict_index</th>\n",
              "      <th>influence</th>\n",
              "      <th>kickoff_time</th>\n",
              "      <th>minutes</th>\n",
              "      <th>opponent_team</th>\n",
              "      <th>own_goals</th>\n",
              "      <th>penalties_missed</th>\n",
              "      <th>penalties_saved</th>\n",
              "      <th>red_cards</th>\n",
              "      <th>round</th>\n",
              "      <th>saves</th>\n",
              "      <th>selected</th>\n",
              "      <th>team_a_score</th>\n",
              "      <th>team_h_score</th>\n",
              "      <th>threat</th>\n",
              "      <th>total_points</th>\n",
              "      <th>transfers_balance</th>\n",
              "      <th>transfers_in</th>\n",
              "      <th>transfers_out</th>\n",
              "      <th>value</th>\n",
              "      <th>was_home</th>\n",
              "      <th>yellow_cards</th>\n",
              "      <th>GW</th>\n",
              "    </tr>\n",
              "  </thead>\n",
              "  <tbody>\n",
              "    <tr>\n",
              "      <th>2897</th>\n",
              "      <td>Wilfred Ndidi</td>\n",
              "      <td>MID</td>\n",
              "      <td>Leicester</td>\n",
              "      <td>2.3</td>\n",
              "      <td>0</td>\n",
              "      <td>0</td>\n",
              "      <td>9</td>\n",
              "      <td>0</td>\n",
              "      <td>3.2</td>\n",
              "      <td>216</td>\n",
              "      <td>42</td>\n",
              "      <td>2</td>\n",
              "      <td>0</td>\n",
              "      <td>1.9</td>\n",
              "      <td>13.8</td>\n",
              "      <td>2021-09-19T13:00:00Z</td>\n",
              "      <td>90</td>\n",
              "      <td>4</td>\n",
              "      <td>0</td>\n",
              "      <td>0</td>\n",
              "      <td>0</td>\n",
              "      <td>0</td>\n",
              "      <td>5</td>\n",
              "      <td>0</td>\n",
              "      <td>124343</td>\n",
              "      <td>1</td>\n",
              "      <td>2</td>\n",
              "      <td>2.0</td>\n",
              "      <td>1</td>\n",
              "      <td>-2718</td>\n",
              "      <td>10241</td>\n",
              "      <td>12959</td>\n",
              "      <td>50</td>\n",
              "      <td>False</td>\n",
              "      <td>1</td>\n",
              "      <td>5</td>\n",
              "    </tr>\n",
              "    <tr>\n",
              "      <th>2898</th>\n",
              "      <td>Matt Ritchie</td>\n",
              "      <td>DEF</td>\n",
              "      <td>Newcastle</td>\n",
              "      <td>0.3</td>\n",
              "      <td>0</td>\n",
              "      <td>0</td>\n",
              "      <td>12</td>\n",
              "      <td>0</td>\n",
              "      <td>33.3</td>\n",
              "      <td>292</td>\n",
              "      <td>46</td>\n",
              "      <td>1</td>\n",
              "      <td>0</td>\n",
              "      <td>5.7</td>\n",
              "      <td>15.2</td>\n",
              "      <td>2021-09-17T19:00:00Z</td>\n",
              "      <td>90</td>\n",
              "      <td>10</td>\n",
              "      <td>0</td>\n",
              "      <td>0</td>\n",
              "      <td>0</td>\n",
              "      <td>0</td>\n",
              "      <td>5</td>\n",
              "      <td>0</td>\n",
              "      <td>23262</td>\n",
              "      <td>1</td>\n",
              "      <td>1</td>\n",
              "      <td>8.0</td>\n",
              "      <td>1</td>\n",
              "      <td>804</td>\n",
              "      <td>4194</td>\n",
              "      <td>3390</td>\n",
              "      <td>50</td>\n",
              "      <td>True</td>\n",
              "      <td>1</td>\n",
              "      <td>5</td>\n",
              "    </tr>\n",
              "    <tr>\n",
              "      <th>2899</th>\n",
              "      <td>Nathan Redmond</td>\n",
              "      <td>MID</td>\n",
              "      <td>Southampton</td>\n",
              "      <td>0.8</td>\n",
              "      <td>0</td>\n",
              "      <td>0</td>\n",
              "      <td>18</td>\n",
              "      <td>1</td>\n",
              "      <td>23.9</td>\n",
              "      <td>336</td>\n",
              "      <td>45</td>\n",
              "      <td>0</td>\n",
              "      <td>0</td>\n",
              "      <td>5.5</td>\n",
              "      <td>14.8</td>\n",
              "      <td>2021-09-18T14:00:00Z</td>\n",
              "      <td>90</td>\n",
              "      <td>12</td>\n",
              "      <td>0</td>\n",
              "      <td>0</td>\n",
              "      <td>0</td>\n",
              "      <td>0</td>\n",
              "      <td>5</td>\n",
              "      <td>0</td>\n",
              "      <td>7400</td>\n",
              "      <td>0</td>\n",
              "      <td>0</td>\n",
              "      <td>16.0</td>\n",
              "      <td>3</td>\n",
              "      <td>-338</td>\n",
              "      <td>347</td>\n",
              "      <td>685</td>\n",
              "      <td>59</td>\n",
              "      <td>False</td>\n",
              "      <td>0</td>\n",
              "      <td>5</td>\n",
              "    </tr>\n",
              "    <tr>\n",
              "      <th>2900</th>\n",
              "      <td>Mathew Ryan</td>\n",
              "      <td>GK</td>\n",
              "      <td>Brighton</td>\n",
              "      <td>0.0</td>\n",
              "      <td>0</td>\n",
              "      <td>0</td>\n",
              "      <td>0</td>\n",
              "      <td>0</td>\n",
              "      <td>0.0</td>\n",
              "      <td>65</td>\n",
              "      <td>42</td>\n",
              "      <td>0</td>\n",
              "      <td>0</td>\n",
              "      <td>0.0</td>\n",
              "      <td>0.0</td>\n",
              "      <td>2021-09-19T13:00:00Z</td>\n",
              "      <td>0</td>\n",
              "      <td>9</td>\n",
              "      <td>0</td>\n",
              "      <td>0</td>\n",
              "      <td>0</td>\n",
              "      <td>0</td>\n",
              "      <td>5</td>\n",
              "      <td>0</td>\n",
              "      <td>808</td>\n",
              "      <td>1</td>\n",
              "      <td>2</td>\n",
              "      <td>0.0</td>\n",
              "      <td>0</td>\n",
              "      <td>-71</td>\n",
              "      <td>0</td>\n",
              "      <td>71</td>\n",
              "      <td>45</td>\n",
              "      <td>True</td>\n",
              "      <td>0</td>\n",
              "      <td>5</td>\n",
              "    </tr>\n",
              "    <tr>\n",
              "      <th>2901</th>\n",
              "      <td>Ryan Fredericks</td>\n",
              "      <td>DEF</td>\n",
              "      <td>West Ham</td>\n",
              "      <td>0.0</td>\n",
              "      <td>0</td>\n",
              "      <td>0</td>\n",
              "      <td>0</td>\n",
              "      <td>0</td>\n",
              "      <td>0.0</td>\n",
              "      <td>415</td>\n",
              "      <td>49</td>\n",
              "      <td>0</td>\n",
              "      <td>0</td>\n",
              "      <td>0.0</td>\n",
              "      <td>0.0</td>\n",
              "      <td>2021-09-19T13:00:00Z</td>\n",
              "      <td>0</td>\n",
              "      <td>13</td>\n",
              "      <td>0</td>\n",
              "      <td>0</td>\n",
              "      <td>0</td>\n",
              "      <td>0</td>\n",
              "      <td>5</td>\n",
              "      <td>0</td>\n",
              "      <td>10636</td>\n",
              "      <td>2</td>\n",
              "      <td>1</td>\n",
              "      <td>0.0</td>\n",
              "      <td>0</td>\n",
              "      <td>-594</td>\n",
              "      <td>474</td>\n",
              "      <td>1068</td>\n",
              "      <td>45</td>\n",
              "      <td>True</td>\n",
              "      <td>0</td>\n",
              "      <td>5</td>\n",
              "    </tr>\n",
              "  </tbody>\n",
              "</table>\n",
              "</div>"
            ],
            "text/plain": [
              "                 name position         team  ...  was_home  yellow_cards  GW\n",
              "2897    Wilfred Ndidi      MID    Leicester  ...     False             1   5\n",
              "2898     Matt Ritchie      DEF    Newcastle  ...      True             1   5\n",
              "2899   Nathan Redmond      MID  Southampton  ...     False             0   5\n",
              "2900      Mathew Ryan       GK     Brighton  ...      True             0   5\n",
              "2901  Ryan Fredericks      DEF     West Ham  ...      True             0   5\n",
              "\n",
              "[5 rows x 36 columns]"
            ]
          },
          "metadata": {},
          "execution_count": 6
        }
      ]
    },
    {
      "cell_type": "code",
      "metadata": {
        "id": "NMHRSFZqA4p4",
        "colab": {
          "base_uri": "https://localhost:8080/",
          "height": 372
        },
        "outputId": "65556701-de87-4a7d-c721-d3f30e334b28"
      },
      "source": [
        "# Get data for GW5\n",
        "gw_5 = current_df[current_df.GW == 5]\n",
        "gw_5.head()"
      ],
      "execution_count": 7,
      "outputs": [
        {
          "output_type": "execute_result",
          "data": {
            "text/html": [
              "<div>\n",
              "<style scoped>\n",
              "    .dataframe tbody tr th:only-of-type {\n",
              "        vertical-align: middle;\n",
              "    }\n",
              "\n",
              "    .dataframe tbody tr th {\n",
              "        vertical-align: top;\n",
              "    }\n",
              "\n",
              "    .dataframe thead th {\n",
              "        text-align: right;\n",
              "    }\n",
              "</style>\n",
              "<table border=\"1\" class=\"dataframe\">\n",
              "  <thead>\n",
              "    <tr style=\"text-align: right;\">\n",
              "      <th></th>\n",
              "      <th>name</th>\n",
              "      <th>position</th>\n",
              "      <th>team</th>\n",
              "      <th>xP</th>\n",
              "      <th>assists</th>\n",
              "      <th>bonus</th>\n",
              "      <th>bps</th>\n",
              "      <th>clean_sheets</th>\n",
              "      <th>creativity</th>\n",
              "      <th>element</th>\n",
              "      <th>fixture</th>\n",
              "      <th>goals_conceded</th>\n",
              "      <th>goals_scored</th>\n",
              "      <th>ict_index</th>\n",
              "      <th>influence</th>\n",
              "      <th>kickoff_time</th>\n",
              "      <th>minutes</th>\n",
              "      <th>opponent_team</th>\n",
              "      <th>own_goals</th>\n",
              "      <th>penalties_missed</th>\n",
              "      <th>penalties_saved</th>\n",
              "      <th>red_cards</th>\n",
              "      <th>round</th>\n",
              "      <th>saves</th>\n",
              "      <th>selected</th>\n",
              "      <th>team_a_score</th>\n",
              "      <th>team_h_score</th>\n",
              "      <th>threat</th>\n",
              "      <th>total_points</th>\n",
              "      <th>transfers_balance</th>\n",
              "      <th>transfers_in</th>\n",
              "      <th>transfers_out</th>\n",
              "      <th>value</th>\n",
              "      <th>was_home</th>\n",
              "      <th>yellow_cards</th>\n",
              "      <th>GW</th>\n",
              "    </tr>\n",
              "  </thead>\n",
              "  <tbody>\n",
              "    <tr>\n",
              "      <th>2296</th>\n",
              "      <td>Eric Bailly</td>\n",
              "      <td>DEF</td>\n",
              "      <td>Man Utd</td>\n",
              "      <td>0.0</td>\n",
              "      <td>0</td>\n",
              "      <td>0</td>\n",
              "      <td>0</td>\n",
              "      <td>0</td>\n",
              "      <td>0.0</td>\n",
              "      <td>286</td>\n",
              "      <td>49</td>\n",
              "      <td>0</td>\n",
              "      <td>0</td>\n",
              "      <td>0.0</td>\n",
              "      <td>0.0</td>\n",
              "      <td>2021-09-19T13:00:00Z</td>\n",
              "      <td>0</td>\n",
              "      <td>19</td>\n",
              "      <td>0</td>\n",
              "      <td>0</td>\n",
              "      <td>0</td>\n",
              "      <td>0</td>\n",
              "      <td>5</td>\n",
              "      <td>0</td>\n",
              "      <td>7265</td>\n",
              "      <td>2</td>\n",
              "      <td>1</td>\n",
              "      <td>0.0</td>\n",
              "      <td>0</td>\n",
              "      <td>-624</td>\n",
              "      <td>252</td>\n",
              "      <td>876</td>\n",
              "      <td>50</td>\n",
              "      <td>False</td>\n",
              "      <td>0</td>\n",
              "      <td>5</td>\n",
              "    </tr>\n",
              "    <tr>\n",
              "      <th>2297</th>\n",
              "      <td>Keinan Davis</td>\n",
              "      <td>FWD</td>\n",
              "      <td>Aston Villa</td>\n",
              "      <td>0.0</td>\n",
              "      <td>0</td>\n",
              "      <td>0</td>\n",
              "      <td>0</td>\n",
              "      <td>0</td>\n",
              "      <td>0.0</td>\n",
              "      <td>49</td>\n",
              "      <td>41</td>\n",
              "      <td>0</td>\n",
              "      <td>0</td>\n",
              "      <td>0.0</td>\n",
              "      <td>0.0</td>\n",
              "      <td>2021-09-18T16:30:00Z</td>\n",
              "      <td>0</td>\n",
              "      <td>8</td>\n",
              "      <td>0</td>\n",
              "      <td>0</td>\n",
              "      <td>0</td>\n",
              "      <td>0</td>\n",
              "      <td>5</td>\n",
              "      <td>0</td>\n",
              "      <td>115711</td>\n",
              "      <td>0</td>\n",
              "      <td>3</td>\n",
              "      <td>0.0</td>\n",
              "      <td>0</td>\n",
              "      <td>-7359</td>\n",
              "      <td>9224</td>\n",
              "      <td>16583</td>\n",
              "      <td>45</td>\n",
              "      <td>True</td>\n",
              "      <td>0</td>\n",
              "      <td>5</td>\n",
              "    </tr>\n",
              "    <tr>\n",
              "      <th>2298</th>\n",
              "      <td>Ayotomiwa Dele-Bashiru</td>\n",
              "      <td>MID</td>\n",
              "      <td>Watford</td>\n",
              "      <td>0.0</td>\n",
              "      <td>0</td>\n",
              "      <td>0</td>\n",
              "      <td>0</td>\n",
              "      <td>0</td>\n",
              "      <td>0.0</td>\n",
              "      <td>394</td>\n",
              "      <td>47</td>\n",
              "      <td>0</td>\n",
              "      <td>0</td>\n",
              "      <td>0.0</td>\n",
              "      <td>0.0</td>\n",
              "      <td>2021-09-18T14:00:00Z</td>\n",
              "      <td>0</td>\n",
              "      <td>15</td>\n",
              "      <td>0</td>\n",
              "      <td>0</td>\n",
              "      <td>0</td>\n",
              "      <td>0</td>\n",
              "      <td>5</td>\n",
              "      <td>0</td>\n",
              "      <td>1709</td>\n",
              "      <td>3</td>\n",
              "      <td>1</td>\n",
              "      <td>0.0</td>\n",
              "      <td>0</td>\n",
              "      <td>-267</td>\n",
              "      <td>0</td>\n",
              "      <td>267</td>\n",
              "      <td>45</td>\n",
              "      <td>False</td>\n",
              "      <td>0</td>\n",
              "      <td>5</td>\n",
              "    </tr>\n",
              "    <tr>\n",
              "      <th>2299</th>\n",
              "      <td>James Ward-Prowse</td>\n",
              "      <td>MID</td>\n",
              "      <td>Southampton</td>\n",
              "      <td>3.0</td>\n",
              "      <td>0</td>\n",
              "      <td>0</td>\n",
              "      <td>13</td>\n",
              "      <td>1</td>\n",
              "      <td>12.2</td>\n",
              "      <td>341</td>\n",
              "      <td>45</td>\n",
              "      <td>0</td>\n",
              "      <td>0</td>\n",
              "      <td>2.6</td>\n",
              "      <td>13.6</td>\n",
              "      <td>2021-09-18T14:00:00Z</td>\n",
              "      <td>90</td>\n",
              "      <td>12</td>\n",
              "      <td>0</td>\n",
              "      <td>0</td>\n",
              "      <td>0</td>\n",
              "      <td>0</td>\n",
              "      <td>5</td>\n",
              "      <td>0</td>\n",
              "      <td>268540</td>\n",
              "      <td>0</td>\n",
              "      <td>0</td>\n",
              "      <td>0.0</td>\n",
              "      <td>3</td>\n",
              "      <td>-20295</td>\n",
              "      <td>12541</td>\n",
              "      <td>32836</td>\n",
              "      <td>64</td>\n",
              "      <td>False</td>\n",
              "      <td>0</td>\n",
              "      <td>5</td>\n",
              "    </tr>\n",
              "    <tr>\n",
              "      <th>2300</th>\n",
              "      <td>Bruno Miguel Borges Fernandes</td>\n",
              "      <td>MID</td>\n",
              "      <td>Man Utd</td>\n",
              "      <td>3.2</td>\n",
              "      <td>0</td>\n",
              "      <td>0</td>\n",
              "      <td>17</td>\n",
              "      <td>0</td>\n",
              "      <td>48.8</td>\n",
              "      <td>277</td>\n",
              "      <td>49</td>\n",
              "      <td>1</td>\n",
              "      <td>0</td>\n",
              "      <td>10.5</td>\n",
              "      <td>18.0</td>\n",
              "      <td>2021-09-19T13:00:00Z</td>\n",
              "      <td>90</td>\n",
              "      <td>19</td>\n",
              "      <td>0</td>\n",
              "      <td>0</td>\n",
              "      <td>0</td>\n",
              "      <td>0</td>\n",
              "      <td>5</td>\n",
              "      <td>0</td>\n",
              "      <td>2797372</td>\n",
              "      <td>2</td>\n",
              "      <td>1</td>\n",
              "      <td>38.0</td>\n",
              "      <td>2</td>\n",
              "      <td>-552801</td>\n",
              "      <td>55156</td>\n",
              "      <td>607957</td>\n",
              "      <td>120</td>\n",
              "      <td>False</td>\n",
              "      <td>0</td>\n",
              "      <td>5</td>\n",
              "    </tr>\n",
              "  </tbody>\n",
              "</table>\n",
              "</div>"
            ],
            "text/plain": [
              "                               name position  ... yellow_cards  GW\n",
              "2296                    Eric Bailly      DEF  ...            0   5\n",
              "2297                   Keinan Davis      FWD  ...            0   5\n",
              "2298         Ayotomiwa Dele-Bashiru      MID  ...            0   5\n",
              "2299              James Ward-Prowse      MID  ...            0   5\n",
              "2300  Bruno Miguel Borges Fernandes      MID  ...            0   5\n",
              "\n",
              "[5 rows x 36 columns]"
            ]
          },
          "metadata": {},
          "execution_count": 7
        }
      ]
    },
    {
      "cell_type": "code",
      "metadata": {
        "colab": {
          "base_uri": "https://localhost:8080/",
          "height": 202
        },
        "id": "SdJiJIaAH67u",
        "outputId": "a10c9ce9-a245-4904-8c47-2cd7f6dbd6d0"
      },
      "source": [
        "data = gw_5[['name', 'team', 'position', 'total_points', 'value']]\n",
        "data.head()\n"
      ],
      "execution_count": 8,
      "outputs": [
        {
          "output_type": "execute_result",
          "data": {
            "text/html": [
              "<div>\n",
              "<style scoped>\n",
              "    .dataframe tbody tr th:only-of-type {\n",
              "        vertical-align: middle;\n",
              "    }\n",
              "\n",
              "    .dataframe tbody tr th {\n",
              "        vertical-align: top;\n",
              "    }\n",
              "\n",
              "    .dataframe thead th {\n",
              "        text-align: right;\n",
              "    }\n",
              "</style>\n",
              "<table border=\"1\" class=\"dataframe\">\n",
              "  <thead>\n",
              "    <tr style=\"text-align: right;\">\n",
              "      <th></th>\n",
              "      <th>name</th>\n",
              "      <th>team</th>\n",
              "      <th>position</th>\n",
              "      <th>total_points</th>\n",
              "      <th>value</th>\n",
              "    </tr>\n",
              "  </thead>\n",
              "  <tbody>\n",
              "    <tr>\n",
              "      <th>2296</th>\n",
              "      <td>Eric Bailly</td>\n",
              "      <td>Man Utd</td>\n",
              "      <td>DEF</td>\n",
              "      <td>0</td>\n",
              "      <td>50</td>\n",
              "    </tr>\n",
              "    <tr>\n",
              "      <th>2297</th>\n",
              "      <td>Keinan Davis</td>\n",
              "      <td>Aston Villa</td>\n",
              "      <td>FWD</td>\n",
              "      <td>0</td>\n",
              "      <td>45</td>\n",
              "    </tr>\n",
              "    <tr>\n",
              "      <th>2298</th>\n",
              "      <td>Ayotomiwa Dele-Bashiru</td>\n",
              "      <td>Watford</td>\n",
              "      <td>MID</td>\n",
              "      <td>0</td>\n",
              "      <td>45</td>\n",
              "    </tr>\n",
              "    <tr>\n",
              "      <th>2299</th>\n",
              "      <td>James Ward-Prowse</td>\n",
              "      <td>Southampton</td>\n",
              "      <td>MID</td>\n",
              "      <td>3</td>\n",
              "      <td>64</td>\n",
              "    </tr>\n",
              "    <tr>\n",
              "      <th>2300</th>\n",
              "      <td>Bruno Miguel Borges Fernandes</td>\n",
              "      <td>Man Utd</td>\n",
              "      <td>MID</td>\n",
              "      <td>2</td>\n",
              "      <td>120</td>\n",
              "    </tr>\n",
              "  </tbody>\n",
              "</table>\n",
              "</div>"
            ],
            "text/plain": [
              "                               name         team position  total_points  value\n",
              "2296                    Eric Bailly      Man Utd      DEF             0     50\n",
              "2297                   Keinan Davis  Aston Villa      FWD             0     45\n",
              "2298         Ayotomiwa Dele-Bashiru      Watford      MID             0     45\n",
              "2299              James Ward-Prowse  Southampton      MID             3     64\n",
              "2300  Bruno Miguel Borges Fernandes      Man Utd      MID             2    120"
            ]
          },
          "metadata": {},
          "execution_count": 8
        }
      ]
    },
    {
      "cell_type": "markdown",
      "metadata": {
        "id": "m_gDh-9uJ5ci"
      },
      "source": [
        "**Initializing Variables**\n",
        "\n",
        "Our aim is to optimize the total points"
      ]
    },
    {
      "cell_type": "code",
      "metadata": {
        "id": "ao0OacKNIEck"
      },
      "source": [
        "# Helper variables\n",
        "POS = data.position.unique()\n",
        "CLUBS = data.team.unique()\n",
        "BUDGET = 1000\n",
        "pos_available = {\n",
        "    'DEF': 5,\n",
        "    'FWD': 3,\n",
        "    'MID': 5,\n",
        "    'GK': 2,\n",
        "}\n",
        "\n",
        "# Initialize Variables\n",
        "names = [data.name[i] for i in data.index]\n",
        "teams = [data.team[i] for i in data.index]\n",
        "positions = [data.position[i] for i in data.index]\n",
        "prices = [data.value[i] for i in data.index]\n",
        "points = [data.total_points[i] for i in data.index]\n",
        "players = [LpVariable(\"player_\" + str(i), cat=\"Binary\") for i in data.index]"
      ],
      "execution_count": 9,
      "outputs": []
    },
    {
      "cell_type": "markdown",
      "metadata": {
        "id": "3givQy5OKV1N"
      },
      "source": [
        "**Initializing the Problem**\n",
        "\n",
        "Since we intend to maximize the number of points, we use a maximization function."
      ]
    },
    {
      "cell_type": "code",
      "metadata": {
        "colab": {
          "base_uri": "https://localhost:8080/"
        },
        "id": "pWvcVGZFJxmU",
        "outputId": "ffd205b0-f167-49f1-d119-75fab8264e21"
      },
      "source": [
        "# Initialize the problem\n",
        "prob = LpProblem(\"FPL Player Choices\", LpMaximize)"
      ],
      "execution_count": 10,
      "outputs": [
        {
          "output_type": "stream",
          "name": "stderr",
          "text": [
            "/usr/local/lib/python3.7/dist-packages/pulp/pulp.py:1316: UserWarning: Spaces are not permitted in the name. Converted to '_'\n",
            "  warnings.warn(\"Spaces are not permitted in the name. Converted to '_'\")\n"
          ]
        }
      ]
    },
    {
      "cell_type": "code",
      "metadata": {
        "id": "AF2-5wI8KmP1"
      },
      "source": [
        "# Define the objective\n",
        "prob += lpSum(players[i] * points[i] for i in range(len(data))) "
      ],
      "execution_count": 11,
      "outputs": []
    },
    {
      "cell_type": "code",
      "metadata": {
        "id": "U7bwok-xKsKT"
      },
      "source": [
        "# Build the constraints\n",
        "prob += lpSum(players[i] * data.value[data.index[i]] for i in range(len(data))) <= BUDGET # Budget Limit\n",
        "\n",
        "for pos in POS:\n",
        "  prob += lpSum(players[i] for i in range(len(data)) if positions[i] == pos) <= pos_available[pos] # Position Limit\n",
        "\n",
        "for club in CLUBS:\n",
        "  prob += lpSum(players[i] for i in range(len(data)) if teams[i] == club) <= 3 # Club Limit"
      ],
      "execution_count": 12,
      "outputs": []
    },
    {
      "cell_type": "code",
      "metadata": {
        "colab": {
          "base_uri": "https://localhost:8080/"
        },
        "id": "x9YnbRvgLF2k",
        "outputId": "afc42f5e-3954-4fe2-f478-62a78cb1b3ee"
      },
      "source": [
        "# Solve the problem\n",
        "prob.solve()"
      ],
      "execution_count": 13,
      "outputs": [
        {
          "output_type": "execute_result",
          "data": {
            "text/plain": [
              "1"
            ]
          },
          "metadata": {},
          "execution_count": 13
        }
      ]
    },
    {
      "cell_type": "code",
      "metadata": {
        "colab": {
          "base_uri": "https://localhost:8080/"
        },
        "id": "OT1_KLdoLOXT",
        "outputId": "5193f8e9-fc30-49e2-c119-35ffa5f368d2"
      },
      "source": [
        "# Rertrieving player names that adhere to the constraints\n",
        "for v in prob.variables():\n",
        "  if v.varValue != 0:\n",
        "    name = data.name[int(v.name.split(\"_\")[1])]\n",
        "    club = data.team[int(v.name.split(\"_\")[1])]\n",
        "    position = data.position[int(v.name.split(\"_\")[1])]\n",
        "    point = data.total_points[int(v.name.split(\"_\")[1])]\n",
        "    price = data.value[int(v.name.split(\"_\")[1])]\n",
        "    print(name, position, club, point, price, sep=\" | \")"
      ],
      "execution_count": 14,
      "outputs": [
        {
          "output_type": "stream",
          "name": "stdout",
          "text": [
            "Joshua King | FWD | Watford | 10 | 55\n",
            "Aaron Ramsdale | GK | Arsenal | 9 | 45\n",
            "Mohamed Salah | MID | Liverpool | 12 | 125\n",
            "Virgil van Dijk | DEF | Liverpool | 12 | 65\n",
            "Saïd Benrahma | MID | West Ham | 10 | 64\n",
            "Antonio Rüdiger | DEF | Chelsea | 14 | 55\n",
            "Ismaila Sarr | MID | Watford | 15 | 60\n",
            "Marcos Alonso | DEF | Chelsea | 10 | 57\n",
            "Matthew Cash | DEF | Aston Villa | 15 | 50\n",
            "Ivan Toney | FWD | Brentford | 12 | 63\n",
            "David de Gea | GK | Man Utd | 10 | 50\n",
            "Danny Welbeck | FWD | Brighton | 9 | 60\n",
            "Martin Ødegaard | MID | Arsenal | 11 | 55\n",
            "Leon Bailey | MID | Aston Villa | 9 | 64\n",
            "Thiago Emiliano da Silva | DEF | Chelsea | 15 | 54\n"
          ]
        }
      ]
    },
    {
      "cell_type": "code",
      "metadata": {
        "colab": {
          "base_uri": "https://localhost:8080/"
        },
        "id": "fcciJFYJLTsz",
        "outputId": "4a82e23c-006c-4921-c674-a9e92e102fd2"
      },
      "source": [
        "#Obtaining the expected costs and total points\n",
        "score = str(prob.objective)\n",
        "constraint = [str(const) for const in prob.constraints.values()][0]\n",
        "for v in prob.variables():\n",
        "  score = score.replace(v.name, str(v.varValue))\n",
        "  constraint = constraint.replace(v.name, str(v.varValue))\n",
        "\n",
        "score_pretty = \" + \".join( re.findall('[0-9\\.]*\\*1.0', score) )\n",
        "constraint_pretty = \" + \".join( re.findall('[0-9\\.]*\\*1.0', constraint) )\n",
        "\n",
        "print(\"Constraint: \")\n",
        "print(constraint_pretty + \" = \" + str(eval(constraint_pretty)))\n",
        "print()\n",
        "print(\"Score: \")\n",
        "print(score_pretty + \" = \" + str(eval(score_pretty)))"
      ],
      "execution_count": 15,
      "outputs": [
        {
          "output_type": "stream",
          "name": "stdout",
          "text": [
            "Constraint: \n",
            "55*1.0 + 45*1.0 + 125*1.0 + 65*1.0 + 64*1.0 + 55*1.0 + 60*1.0 + 57*1.0 + 50*1.0 + 63*1.0 + 50*1.0 + 60*1.0 + 55*1.0 + 64*1.0 + 54*1.0 = 922.0\n",
            "\n",
            "Score: \n",
            "10*1.0 + 9*1.0 + 12*1.0 + 12*1.0 + 10*1.0 + 14*1.0 + 15*1.0 + 10*1.0 + 15*1.0 + 12*1.0 + 10*1.0 + 9*1.0 + 11*1.0 + 9*1.0 + 15*1.0 = 173.0\n"
          ]
        }
      ]
    },
    {
      "cell_type": "code",
      "metadata": {
        "id": "UzDhq0IZLpwj"
      },
      "source": [
        ""
      ],
      "execution_count": null,
      "outputs": []
    }
  ]
}